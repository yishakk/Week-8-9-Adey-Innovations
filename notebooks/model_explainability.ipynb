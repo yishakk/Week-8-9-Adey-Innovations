{
 "cells": [
  {
   "cell_type": "code",
   "execution_count": 1,
   "metadata": {},
   "outputs": [],
   "source": [
    "import os, sys\n",
    "notebook_dir = os.getcwd()\n",
    "sys.path.append(os.path.abspath(os.path.join(notebook_dir,'..')))"
   ]
  },
  {
   "cell_type": "code",
   "execution_count": 6,
   "metadata": {},
   "outputs": [],
   "source": [
    "from scripts.data_load import load_data\n",
    "from scripts.preprocess import preprocess_data\n",
    "from scripts.data_visualization import *\n",
    "import pandas as pd\n",
    "from sklearn.preprocessing import StandardScaler\n",
    "from sklearn.model_selection import train_test_split\n",
    "from sklearn.linear_model import LogisticRegression\n",
    "from sklearn.metrics import classification_report, roc_auc_score\n",
    "import ipaddress\n",
    "import joblib\n",
    "from tensorflow import keras"
   ]
  },
  {
   "cell_type": "code",
   "execution_count": 7,
   "metadata": {},
   "outputs": [],
   "source": [
    "# Load data\n",
    "fraud_data = load_data('../data/cleaned_fraud_data.csv')\n",
    "credit_data = load_data('../data/creditcard.csv')\n",
    "ip_country = load_data('../data/IpAddress_to_Country.csv')"
   ]
  },
  {
   "cell_type": "code",
   "execution_count": 8,
   "metadata": {},
   "outputs": [
    {
     "name": "stderr",
     "output_type": "stream",
     "text": [
      "WARNING:absl:Compiled the loaded model, but the compiled metrics have yet to be built. `model.compile_metrics` will be empty until you train or evaluate the model.\n",
      "WARNING:absl:Compiled the loaded model, but the compiled metrics have yet to be built. `model.compile_metrics` will be empty until you train or evaluate the model.\n",
      "WARNING:absl:Compiled the loaded model, but the compiled metrics have yet to be built. `model.compile_metrics` will be empty until you train or evaluate the model.\n"
     ]
    }
   ],
   "source": [
    "# Load models\n",
    "cnn_model = keras.models.load_model(\"../models/cnn_model.h5\")\n",
    "random_model = joblib.load(\"../models/random_forest_model.pkl\")\n",
    "rnn_model = keras.models.load_model(\"../models/rnn_model.h5\")\n",
    "lstms_model = keras.models.load_model(\"../models/lstm_model.h5\")"
   ]
  },
  {
   "cell_type": "code",
   "execution_count": 9,
   "metadata": {},
   "outputs": [],
   "source": [
    "# Fraud_Data.csv\n",
    "X_fraud = fraud_data.drop(columns=['device_id', 'class', 'country'])\n",
    "y_fraud = fraud_data['class']\n",
    "\n",
    "# creditcard.csv\n",
    "X_credit = credit_data.drop(columns=['Class'])\n",
    "y_credit = credit_data['Class']"
   ]
  },
  {
   "cell_type": "code",
   "execution_count": 10,
   "metadata": {},
   "outputs": [],
   "source": [
    "\n",
    "# Fraud_Data.csv\n",
    "X_train_fraud, X_test_fraud, y_train_fraud, y_test_fraud = train_test_split(\n",
    "    X_fraud, y_fraud, test_size=0.2, random_state=42, stratify=y_fraud\n",
    ")\n",
    "\n",
    "# creditcard.csv\n",
    "X_train_credit, X_test_credit, y_train_credit, y_test_credit = train_test_split(\n",
    "    X_credit, y_credit, test_size=0.2, random_state=42, stratify=y_credit\n",
    ")\n",
    "\n",
    "X_train_fraud['purchase_time'] = pd.to_datetime(X_train_fraud['purchase_time'])\n",
    "X_train_fraud['purchase_time'] = X_train_fraud['purchase_time'].astype(int) / 10**9  # Convert to seconds\n",
    "\n",
    "X_test_fraud['purchase_time'] = pd.to_datetime(X_test_fraud['purchase_time'])\n",
    "X_test_fraud['purchase_time'] = X_test_fraud['purchase_time'].astype(int) / 10**9  # Convert to seconds\n",
    "\n",
    "\n",
    "X_train_fraud['signup_time'] = pd.to_datetime(X_train_fraud['signup_time'])\n",
    "X_train_fraud['signup_time'] = X_train_fraud['signup_time'].astype(int) / 10**9  # Convert to seconds\n",
    "\n",
    "X_test_fraud['signup_time'] = pd.to_datetime(X_test_fraud['signup_time'])\n",
    "X_test_fraud['signup_time'] = X_test_fraud['signup_time'].astype(int) / 10**9  # Convert to seconds\n"
   ]
  },
  {
   "cell_type": "code",
   "execution_count": null,
   "metadata": {},
   "outputs": [
    {
     "name": "stderr",
     "output_type": "stream",
     "text": [
      "PermutationExplainer explainer:   3%|▎         | 801/30223 [2:09:14<19:43:28,  2.41s/it]   "
     ]
    }
   ],
   "source": [
    "import shap\n",
    "\n",
    "# Ensure all columns are numeric\n",
    "X_train_fraud = X_train_fraud.apply(pd.to_numeric, errors='coerce').fillna(0)\n",
    "X_test_fraud = X_test_fraud.apply(pd.to_numeric, errors='coerce').fillna(0)\n",
    "\n",
    "# Convert boolean columns to integers\n",
    "X_train_fraud = X_train_fraud.astype({col: 'int' for col in X_train_fraud.select_dtypes(include='bool').columns})\n",
    "X_test_fraud = X_test_fraud.astype({col: 'int' for col in X_test_fraud.select_dtypes(include='bool').columns})\n",
    "\n",
    "# Initialize SHAP explainer\n",
    "explainer = shap.Explainer(lstms_model, X_train_fraud)\n",
    "shap_values = explainer(X_test_fraud)\n",
    "\n",
    "# SHAP Summary Plot\n",
    "shap.summary_plot(shap_values, X_test_fraud, plot_type=\"bar\")"
   ]
  }
 ],
 "metadata": {
  "kernelspec": {
   "display_name": ".venv",
   "language": "python",
   "name": "python3"
  },
  "language_info": {
   "codemirror_mode": {
    "name": "ipython",
    "version": 3
   },
   "file_extension": ".py",
   "mimetype": "text/x-python",
   "name": "python",
   "nbconvert_exporter": "python",
   "pygments_lexer": "ipython3",
   "version": "3.10.0"
  }
 },
 "nbformat": 4,
 "nbformat_minor": 2
}
