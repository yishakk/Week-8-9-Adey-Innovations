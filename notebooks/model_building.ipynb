{
 "cells": [
  {
   "cell_type": "code",
   "execution_count": 1,
   "metadata": {},
   "outputs": [],
   "source": [
    "import os, sys\n",
    "notebook_dir = os.getcwd()\n",
    "sys.path.append(os.path.abspath(os.path.join(notebook_dir,'..')))"
   ]
  },
  {
   "cell_type": "code",
   "execution_count": 23,
   "metadata": {},
   "outputs": [],
   "source": [
    "from scripts.data_load import load_data\n",
    "from scripts.preprocess import preprocess_data\n",
    "from scripts.data_visualization import *\n",
    "import pandas as pd\n",
    "from sklearn.preprocessing import StandardScaler\n",
    "from sklearn.model_selection import train_test_split\n",
    "from sklearn.linear_model import LogisticRegression\n",
    "from sklearn.metrics import classification_report, roc_auc_score\n",
    "import ipaddress\n",
    "import joblib"
   ]
  },
  {
   "cell_type": "code",
   "execution_count": 3,
   "metadata": {},
   "outputs": [],
   "source": [
    "# Load data\n",
    "fraud_data = load_data('../data/cleaned_fraud_data.csv')\n",
    "credit_data = load_data('../data/creditcard.csv')\n",
    "ip_country = load_data('../data/IpAddress_to_Country.csv')"
   ]
  },
  {
   "cell_type": "code",
   "execution_count": 4,
   "metadata": {},
   "outputs": [],
   "source": [
    "# Fraud_Data.csv\n",
    "X_fraud = fraud_data.drop(columns=['device_id', 'class', 'country'])\n",
    "y_fraud = fraud_data['class']\n",
    "\n",
    "# creditcard.csv\n",
    "X_credit = credit_data.drop(columns=['Class'])\n",
    "y_credit = credit_data['Class']"
   ]
  },
  {
   "cell_type": "code",
   "execution_count": 5,
   "metadata": {},
   "outputs": [],
   "source": [
    "\n",
    "# Fraud_Data.csv\n",
    "X_train_fraud, X_test_fraud, y_train_fraud, y_test_fraud = train_test_split(\n",
    "    X_fraud, y_fraud, test_size=0.2, random_state=42, stratify=y_fraud\n",
    ")\n",
    "\n",
    "# creditcard.csv\n",
    "X_train_credit, X_test_credit, y_train_credit, y_test_credit = train_test_split(\n",
    "    X_credit, y_credit, test_size=0.2, random_state=42, stratify=y_credit\n",
    ")\n",
    "\n",
    "X_train_fraud['purchase_time'] = pd.to_datetime(X_train_fraud['purchase_time'])\n",
    "X_train_fraud['purchase_time'] = X_train_fraud['purchase_time'].astype(int) / 10**9  # Convert to seconds\n",
    "\n",
    "X_test_fraud['purchase_time'] = pd.to_datetime(X_test_fraud['purchase_time'])\n",
    "X_test_fraud['purchase_time'] = X_test_fraud['purchase_time'].astype(int) / 10**9  # Convert to seconds\n",
    "\n",
    "\n",
    "X_train_fraud['signup_time'] = pd.to_datetime(X_train_fraud['signup_time'])\n",
    "X_train_fraud['signup_time'] = X_train_fraud['signup_time'].astype(int) / 10**9  # Convert to seconds\n",
    "\n",
    "X_test_fraud['signup_time'] = pd.to_datetime(X_test_fraud['signup_time'])\n",
    "X_test_fraud['signup_time'] = X_test_fraud['signup_time'].astype(int) / 10**9  # Convert to seconds\n"
   ]
  },
  {
   "cell_type": "code",
   "execution_count": 12,
   "metadata": {},
   "outputs": [
    {
     "name": "stdout",
     "output_type": "stream",
     "text": [
      "user_id                    int64\n",
      "signup_time              float64\n",
      "purchase_time            float64\n",
      "purchase_value             int64\n",
      "age                        int64\n",
      "ip_address               float64\n",
      "transaction_count          int64\n",
      "time_diff                float64\n",
      "hour_of_day                int64\n",
      "day_of_week                int64\n",
      "purchase_value_scaled    float64\n",
      "source_Direct               bool\n",
      "source_SEO                  bool\n",
      "browser_FireFox             bool\n",
      "browser_IE                  bool\n",
      "browser_Opera               bool\n",
      "browser_Safari              bool\n",
      "sex_M                       bool\n",
      "dtype: object\n"
     ]
    }
   ],
   "source": [
    "print(X_train_fraud.dtypes)"
   ]
  },
  {
   "cell_type": "code",
   "execution_count": 25,
   "metadata": {},
   "outputs": [
    {
     "name": "stderr",
     "output_type": "stream",
     "text": [
      "c:\\Users\\USER\\Documents\\10X_Exercises\\Week-8-9-Adey-Innovations\\.venv\\lib\\site-packages\\sklearn\\impute\\_base.py:635: UserWarning: Skipping features without any observed values: ['time_diff']. At least one non-missing value is needed for imputation with strategy='mean'.\n",
      "  warnings.warn(\n",
      "c:\\Users\\USER\\Documents\\10X_Exercises\\Week-8-9-Adey-Innovations\\.venv\\lib\\site-packages\\sklearn\\impute\\_base.py:635: UserWarning: Skipping features without any observed values: ['time_diff']. At least one non-missing value is needed for imputation with strategy='mean'.\n",
      "  warnings.warn(\n"
     ]
    },
    {
     "name": "stdout",
     "output_type": "stream",
     "text": [
      "              precision    recall  f1-score   support\n",
      "\n",
      "           0       0.95      0.64      0.76     27393\n",
      "           1       0.17      0.69      0.27      2830\n",
      "\n",
      "    accuracy                           0.64     30223\n",
      "   macro avg       0.56      0.67      0.52     30223\n",
      "weighted avg       0.88      0.64      0.72     30223\n",
      "\n",
      "ROC-AUC: 0.7575597387019124\n"
     ]
    },
    {
     "data": {
      "text/plain": [
       "['../models/logistic_regression_model.pkl']"
      ]
     },
     "execution_count": 25,
     "metadata": {},
     "output_type": "execute_result"
    }
   ],
   "source": [
    "from sklearn.impute import SimpleImputer\n",
    "\n",
    "# Handle missing values\n",
    "imputer = SimpleImputer(strategy='mean')\n",
    "X_train_fraud_imputed = imputer.fit_transform(X_train_fraud)\n",
    "X_test_fraud_imputed = imputer.transform(X_test_fraud)\n",
    "\n",
    "# Train Logistic Regression\n",
    "model = LogisticRegression(class_weight='balanced', random_state=42)\n",
    "model.fit(X_train_fraud_imputed, y_train_fraud)\n",
    "\n",
    "# Evaluate\n",
    "y_pred = model.predict(X_test_fraud_imputed)\n",
    "print(classification_report(y_test_fraud, y_pred))\n",
    "print(\"ROC-AUC:\", roc_auc_score(y_test_fraud, model.predict_proba(X_test_fraud_imputed)[:, 1]))\n",
    "\n",
    "joblib.dump(model, \"../models/logistic_regression_model.pkl\")\n",
    "\n"
   ]
  },
  {
   "cell_type": "code",
   "execution_count": 26,
   "metadata": {},
   "outputs": [
    {
     "name": "stdout",
     "output_type": "stream",
     "text": [
      "Decision Tree:\n",
      "              precision    recall  f1-score   support\n",
      "\n",
      "           0       0.95      0.95      0.95     27393\n",
      "           1       0.53      0.55      0.54      2830\n",
      "\n",
      "    accuracy                           0.91     30223\n",
      "   macro avg       0.74      0.75      0.75     30223\n",
      "weighted avg       0.91      0.91      0.91     30223\n",
      "\n",
      "ROC-AUC: 0.7514647225523428\n"
     ]
    },
    {
     "data": {
      "text/plain": [
       "['../models/decision_tree_model.pkl']"
      ]
     },
     "execution_count": 26,
     "metadata": {},
     "output_type": "execute_result"
    }
   ],
   "source": [
    "from sklearn.tree import DecisionTreeClassifier\n",
    "\n",
    "# Train\n",
    "model = DecisionTreeClassifier(class_weight='balanced', random_state=42)\n",
    "model.fit(X_train_fraud, y_train_fraud)\n",
    "\n",
    "# Evaluate\n",
    "y_pred = model.predict(X_test_fraud)\n",
    "print(\"Decision Tree:\")\n",
    "print(classification_report(y_test_fraud, y_pred))\n",
    "print(\"ROC-AUC:\", roc_auc_score(y_test_fraud, y_pred))\n",
    "\n",
    "joblib.dump(model, \"../models/decision_tree_model.pkl\")"
   ]
  },
  {
   "cell_type": "code",
   "execution_count": 27,
   "metadata": {},
   "outputs": [
    {
     "name": "stdout",
     "output_type": "stream",
     "text": [
      "Random Forest:\n",
      "              precision    recall  f1-score   support\n",
      "\n",
      "           0       0.95      1.00      0.98     27393\n",
      "           1       0.97      0.53      0.68      2830\n",
      "\n",
      "    accuracy                           0.95     30223\n",
      "   macro avg       0.96      0.76      0.83     30223\n",
      "weighted avg       0.96      0.95      0.95     30223\n",
      "\n",
      "ROC-AUC: 0.7630690580335773\n"
     ]
    },
    {
     "data": {
      "text/plain": [
       "['../models/random_forest_model.pkl']"
      ]
     },
     "execution_count": 27,
     "metadata": {},
     "output_type": "execute_result"
    }
   ],
   "source": [
    "from sklearn.ensemble import RandomForestClassifier\n",
    "\n",
    "# Train\n",
    "model = RandomForestClassifier(class_weight='balanced', random_state=42)\n",
    "model.fit(X_train_fraud, y_train_fraud)\n",
    "\n",
    "# Evaluate\n",
    "y_pred = model.predict(X_test_fraud)\n",
    "print(\"Random Forest:\")\n",
    "print(classification_report(y_test_fraud, y_pred))\n",
    "print(\"ROC-AUC:\", roc_auc_score(y_test_fraud, y_pred))\n",
    "\n",
    "joblib.dump(model, \"../models/random_forest_model.pkl\")"
   ]
  },
  {
   "cell_type": "code",
   "execution_count": 28,
   "metadata": {},
   "outputs": [
    {
     "name": "stdout",
     "output_type": "stream",
     "text": [
      "Gradient Boosting:\n",
      "              precision    recall  f1-score   support\n",
      "\n",
      "           0       0.95      0.98      0.97     27393\n",
      "           1       0.74      0.54      0.62      2830\n",
      "\n",
      "    accuracy                           0.94     30223\n",
      "   macro avg       0.85      0.76      0.79     30223\n",
      "weighted avg       0.93      0.94      0.93     30223\n",
      "\n",
      "ROC-AUC: 0.7581157601455789\n"
     ]
    }
   ],
   "source": [
    "from xgboost import XGBClassifier\n",
    "\n",
    "# Train\n",
    "model = XGBClassifier(scale_pos_weight=len(y_train_fraud[y_train_fraud == 0]) / len(y_train_fraud[y_train_fraud == 1]))\n",
    "model.fit(X_train_fraud, y_train_fraud)\n",
    "\n",
    "# Evaluate\n",
    "y_pred = model.predict(X_test_fraud)\n",
    "print(\"Gradient Boosting:\")\n",
    "print(classification_report(y_test_fraud, y_pred))\n",
    "print(\"ROC-AUC:\", roc_auc_score(y_test_fraud, y_pred))\n",
    "\n",
    "model.save_model(\"../models/xgboost_model.json\")"
   ]
  },
  {
   "cell_type": "code",
   "execution_count": 29,
   "metadata": {},
   "outputs": [
    {
     "name": "stderr",
     "output_type": "stream",
     "text": [
      "c:\\Users\\USER\\Documents\\10X_Exercises\\Week-8-9-Adey-Innovations\\.venv\\lib\\site-packages\\sklearn\\impute\\_base.py:635: UserWarning: Skipping features without any observed values: ['time_diff']. At least one non-missing value is needed for imputation with strategy='mean'.\n",
      "  warnings.warn(\n",
      "c:\\Users\\USER\\Documents\\10X_Exercises\\Week-8-9-Adey-Innovations\\.venv\\lib\\site-packages\\sklearn\\impute\\_base.py:635: UserWarning: Skipping features without any observed values: ['time_diff']. At least one non-missing value is needed for imputation with strategy='mean'.\n",
      "  warnings.warn(\n"
     ]
    },
    {
     "name": "stdout",
     "output_type": "stream",
     "text": [
      "MLP:\n",
      "              precision    recall  f1-score   support\n",
      "\n",
      "           0       0.91      1.00      0.95     27393\n",
      "           1       0.00      0.00      0.00      2830\n",
      "\n",
      "    accuracy                           0.91     30223\n",
      "   macro avg       0.45      0.50      0.48     30223\n",
      "weighted avg       0.82      0.91      0.86     30223\n",
      "\n",
      "ROC-AUC: 0.5\n"
     ]
    },
    {
     "name": "stderr",
     "output_type": "stream",
     "text": [
      "c:\\Users\\USER\\Documents\\10X_Exercises\\Week-8-9-Adey-Innovations\\.venv\\lib\\site-packages\\sklearn\\metrics\\_classification.py:1565: UndefinedMetricWarning: Precision is ill-defined and being set to 0.0 in labels with no predicted samples. Use `zero_division` parameter to control this behavior.\n",
      "  _warn_prf(average, modifier, f\"{metric.capitalize()} is\", len(result))\n",
      "c:\\Users\\USER\\Documents\\10X_Exercises\\Week-8-9-Adey-Innovations\\.venv\\lib\\site-packages\\sklearn\\metrics\\_classification.py:1565: UndefinedMetricWarning: Precision is ill-defined and being set to 0.0 in labels with no predicted samples. Use `zero_division` parameter to control this behavior.\n",
      "  _warn_prf(average, modifier, f\"{metric.capitalize()} is\", len(result))\n",
      "c:\\Users\\USER\\Documents\\10X_Exercises\\Week-8-9-Adey-Innovations\\.venv\\lib\\site-packages\\sklearn\\metrics\\_classification.py:1565: UndefinedMetricWarning: Precision is ill-defined and being set to 0.0 in labels with no predicted samples. Use `zero_division` parameter to control this behavior.\n",
      "  _warn_prf(average, modifier, f\"{metric.capitalize()} is\", len(result))\n"
     ]
    },
    {
     "data": {
      "text/plain": [
       "['../models/mlp_classifier_model.pkl']"
      ]
     },
     "execution_count": 29,
     "metadata": {},
     "output_type": "execute_result"
    }
   ],
   "source": [
    "from sklearn.neural_network import MLPClassifier\n",
    "from sklearn.impute import SimpleImputer\n",
    "\n",
    "# Handle missing values\n",
    "imputer = SimpleImputer(strategy='mean')\n",
    "X_train_fraud_imputed = imputer.fit_transform(X_train_fraud)\n",
    "X_test_fraud_imputed = imputer.transform(X_test_fraud)\n",
    "\n",
    "# Train\n",
    "model = MLPClassifier(hidden_layer_sizes=(100, 50), max_iter=1000, random_state=42)\n",
    "model.fit(X_train_fraud_imputed, y_train_fraud)\n",
    "\n",
    "# Evaluate\n",
    "y_pred = model.predict(X_test_fraud_imputed)\n",
    "print(\"MLP:\")\n",
    "print(classification_report(y_test_fraud, y_pred))\n",
    "print(\"ROC-AUC:\", roc_auc_score(y_test_fraud, y_pred))\n",
    "\n",
    "joblib.dump(model, \"../models/mlp_classifier_model.pkl\")"
   ]
  },
  {
   "cell_type": "code",
   "execution_count": 30,
   "metadata": {},
   "outputs": [
    {
     "name": "stderr",
     "output_type": "stream",
     "text": [
      "c:\\Users\\USER\\Documents\\10X_Exercises\\Week-8-9-Adey-Innovations\\.venv\\lib\\site-packages\\keras\\src\\layers\\convolutional\\base_conv.py:107: UserWarning: Do not pass an `input_shape`/`input_dim` argument to a layer. When using Sequential models, prefer using an `Input(shape)` object as the first layer in the model instead.\n",
      "  super().__init__(activity_regularizer=activity_regularizer, **kwargs)\n"
     ]
    },
    {
     "name": "stdout",
     "output_type": "stream",
     "text": [
      "Epoch 1/10\n",
      "\u001b[1m3023/3023\u001b[0m \u001b[32m━━━━━━━━━━━━━━━━━━━━\u001b[0m\u001b[37m\u001b[0m \u001b[1m7s\u001b[0m 2ms/step - accuracy: 0.9062 - loss: nan - val_accuracy: 0.9075 - val_loss: nan\n",
      "Epoch 2/10\n",
      "\u001b[1m3023/3023\u001b[0m \u001b[32m━━━━━━━━━━━━━━━━━━━━\u001b[0m\u001b[37m\u001b[0m \u001b[1m6s\u001b[0m 2ms/step - accuracy: 0.9053 - loss: nan - val_accuracy: 0.9075 - val_loss: nan\n",
      "Epoch 3/10\n",
      "\u001b[1m3023/3023\u001b[0m \u001b[32m━━━━━━━━━━━━━━━━━━━━\u001b[0m\u001b[37m\u001b[0m \u001b[1m10s\u001b[0m 3ms/step - accuracy: 0.9066 - loss: nan - val_accuracy: 0.9075 - val_loss: nan\n",
      "Epoch 4/10\n",
      "\u001b[1m3023/3023\u001b[0m \u001b[32m━━━━━━━━━━━━━━━━━━━━\u001b[0m\u001b[37m\u001b[0m \u001b[1m22s\u001b[0m 7ms/step - accuracy: 0.9050 - loss: nan - val_accuracy: 0.9075 - val_loss: nan\n",
      "Epoch 5/10\n",
      "\u001b[1m3023/3023\u001b[0m \u001b[32m━━━━━━━━━━━━━━━━━━━━\u001b[0m\u001b[37m\u001b[0m \u001b[1m8s\u001b[0m 3ms/step - accuracy: 0.9056 - loss: nan - val_accuracy: 0.9075 - val_loss: nan\n",
      "Epoch 6/10\n",
      "\u001b[1m3023/3023\u001b[0m \u001b[32m━━━━━━━━━━━━━━━━━━━━\u001b[0m\u001b[37m\u001b[0m \u001b[1m13s\u001b[0m 4ms/step - accuracy: 0.9071 - loss: nan - val_accuracy: 0.9075 - val_loss: nan\n",
      "Epoch 7/10\n",
      "\u001b[1m3023/3023\u001b[0m \u001b[32m━━━━━━━━━━━━━━━━━━━━\u001b[0m\u001b[37m\u001b[0m \u001b[1m10s\u001b[0m 3ms/step - accuracy: 0.9056 - loss: nan - val_accuracy: 0.9075 - val_loss: nan\n",
      "Epoch 8/10\n",
      "\u001b[1m3023/3023\u001b[0m \u001b[32m━━━━━━━━━━━━━━━━━━━━\u001b[0m\u001b[37m\u001b[0m \u001b[1m10s\u001b[0m 3ms/step - accuracy: 0.9070 - loss: nan - val_accuracy: 0.9075 - val_loss: nan\n",
      "Epoch 9/10\n",
      "\u001b[1m3023/3023\u001b[0m \u001b[32m━━━━━━━━━━━━━━━━━━━━\u001b[0m\u001b[37m\u001b[0m \u001b[1m11s\u001b[0m 4ms/step - accuracy: 0.9067 - loss: nan - val_accuracy: 0.9075 - val_loss: nan\n",
      "Epoch 10/10\n",
      "\u001b[1m3023/3023\u001b[0m \u001b[32m━━━━━━━━━━━━━━━━━━━━\u001b[0m\u001b[37m\u001b[0m \u001b[1m10s\u001b[0m 3ms/step - accuracy: 0.9053 - loss: nan - val_accuracy: 0.9075 - val_loss: nan\n",
      "\u001b[1m945/945\u001b[0m \u001b[32m━━━━━━━━━━━━━━━━━━━━\u001b[0m\u001b[37m\u001b[0m \u001b[1m1s\u001b[0m 1ms/step\n"
     ]
    },
    {
     "name": "stderr",
     "output_type": "stream",
     "text": [
      "c:\\Users\\USER\\Documents\\10X_Exercises\\Week-8-9-Adey-Innovations\\.venv\\lib\\site-packages\\sklearn\\metrics\\_classification.py:1565: UndefinedMetricWarning: Precision is ill-defined and being set to 0.0 in labels with no predicted samples. Use `zero_division` parameter to control this behavior.\n",
      "  _warn_prf(average, modifier, f\"{metric.capitalize()} is\", len(result))\n",
      "c:\\Users\\USER\\Documents\\10X_Exercises\\Week-8-9-Adey-Innovations\\.venv\\lib\\site-packages\\sklearn\\metrics\\_classification.py:1565: UndefinedMetricWarning: Precision is ill-defined and being set to 0.0 in labels with no predicted samples. Use `zero_division` parameter to control this behavior.\n",
      "  _warn_prf(average, modifier, f\"{metric.capitalize()} is\", len(result))\n",
      "c:\\Users\\USER\\Documents\\10X_Exercises\\Week-8-9-Adey-Innovations\\.venv\\lib\\site-packages\\sklearn\\metrics\\_classification.py:1565: UndefinedMetricWarning: Precision is ill-defined and being set to 0.0 in labels with no predicted samples. Use `zero_division` parameter to control this behavior.\n",
      "  _warn_prf(average, modifier, f\"{metric.capitalize()} is\", len(result))\n",
      "WARNING:absl:You are saving your model as an HDF5 file via `model.save()` or `keras.saving.save_model(model)`. This file format is considered legacy. We recommend using instead the native Keras format, e.g. `model.save('my_model.keras')` or `keras.saving.save_model(model, 'my_model.keras')`. \n"
     ]
    },
    {
     "name": "stdout",
     "output_type": "stream",
     "text": [
      "CNN:\n",
      "              precision    recall  f1-score   support\n",
      "\n",
      "           0       0.91      1.00      0.95     27393\n",
      "           1       0.00      0.00      0.00      2830\n",
      "\n",
      "    accuracy                           0.91     30223\n",
      "   macro avg       0.45      0.50      0.48     30223\n",
      "weighted avg       0.82      0.91      0.86     30223\n",
      "\n",
      "ROC-AUC: 0.5\n"
     ]
    }
   ],
   "source": [
    "import tensorflow as tf\n",
    "from tensorflow.keras.models import Sequential\n",
    "from tensorflow.keras.layers import Conv1D, MaxPooling1D, Flatten, Dense\n",
    "\n",
    "# Convert data to numeric type and reshape for CNN\n",
    "X_train_cnn = X_train_fraud.astype(float).values.reshape(X_train_fraud.shape[0], X_train_fraud.shape[1], 1)\n",
    "X_test_cnn = X_test_fraud.astype(float).values.reshape(X_test_fraud.shape[0], X_test_fraud.shape[1], 1)\n",
    "\n",
    "# Build CNN\n",
    "model = Sequential([\n",
    "    Conv1D(filters=64, kernel_size=3, activation='relu', input_shape=(X_train_cnn.shape[1], 1)),\n",
    "    MaxPooling1D(pool_size=2),\n",
    "    Flatten(),\n",
    "    Dense(50, activation='relu'),\n",
    "    Dense(1, activation='sigmoid')\n",
    "])\n",
    "model.compile(optimizer='adam', loss='binary_crossentropy', metrics=['accuracy'])\n",
    "\n",
    "# Train\n",
    "model.fit(X_train_cnn, y_train_fraud, epochs=10, batch_size=32, validation_split=0.2)\n",
    "\n",
    "# Evaluate\n",
    "y_pred = (model.predict(X_test_cnn) > 0.5).astype(int)\n",
    "print(\"CNN:\")\n",
    "print(classification_report(y_test_fraud, y_pred))\n",
    "print(\"ROC-AUC:\", roc_auc_score(y_test_fraud, y_pred))\n",
    "\n",
    "model.save(\"../models/cnn_model.h5\")  # Saves in HDF5 format"
   ]
  },
  {
   "cell_type": "code",
   "execution_count": 31,
   "metadata": {},
   "outputs": [
    {
     "name": "stderr",
     "output_type": "stream",
     "text": [
      "c:\\Users\\USER\\Documents\\10X_Exercises\\Week-8-9-Adey-Innovations\\.venv\\lib\\site-packages\\keras\\src\\layers\\rnn\\rnn.py:200: UserWarning: Do not pass an `input_shape`/`input_dim` argument to a layer. When using Sequential models, prefer using an `Input(shape)` object as the first layer in the model instead.\n",
      "  super().__init__(**kwargs)\n"
     ]
    },
    {
     "name": "stdout",
     "output_type": "stream",
     "text": [
      "Epoch 1/10\n",
      "\u001b[1m3023/3023\u001b[0m \u001b[32m━━━━━━━━━━━━━━━━━━━━\u001b[0m\u001b[37m\u001b[0m \u001b[1m12s\u001b[0m 3ms/step - accuracy: 0.9070 - loss: nan - val_accuracy: 0.9075 - val_loss: nan\n",
      "Epoch 2/10\n",
      "\u001b[1m3023/3023\u001b[0m \u001b[32m━━━━━━━━━━━━━━━━━━━━\u001b[0m\u001b[37m\u001b[0m \u001b[1m8s\u001b[0m 3ms/step - accuracy: 0.9079 - loss: nan - val_accuracy: 0.9075 - val_loss: nan\n",
      "Epoch 3/10\n",
      "\u001b[1m3023/3023\u001b[0m \u001b[32m━━━━━━━━━━━━━━━━━━━━\u001b[0m\u001b[37m\u001b[0m \u001b[1m7s\u001b[0m 2ms/step - accuracy: 0.9068 - loss: nan - val_accuracy: 0.9075 - val_loss: nan\n",
      "Epoch 4/10\n",
      "\u001b[1m3023/3023\u001b[0m \u001b[32m━━━━━━━━━━━━━━━━━━━━\u001b[0m\u001b[37m\u001b[0m \u001b[1m8s\u001b[0m 3ms/step - accuracy: 0.9066 - loss: nan - val_accuracy: 0.9075 - val_loss: nan\n",
      "Epoch 5/10\n",
      "\u001b[1m3023/3023\u001b[0m \u001b[32m━━━━━━━━━━━━━━━━━━━━\u001b[0m\u001b[37m\u001b[0m \u001b[1m16s\u001b[0m 5ms/step - accuracy: 0.9072 - loss: nan - val_accuracy: 0.9075 - val_loss: nan\n",
      "Epoch 6/10\n",
      "\u001b[1m3023/3023\u001b[0m \u001b[32m━━━━━━━━━━━━━━━━━━━━\u001b[0m\u001b[37m\u001b[0m \u001b[1m18s\u001b[0m 6ms/step - accuracy: 0.9070 - loss: nan - val_accuracy: 0.9075 - val_loss: nan\n",
      "Epoch 7/10\n",
      "\u001b[1m3023/3023\u001b[0m \u001b[32m━━━━━━━━━━━━━━━━━━━━\u001b[0m\u001b[37m\u001b[0m \u001b[1m22s\u001b[0m 7ms/step - accuracy: 0.9062 - loss: nan - val_accuracy: 0.9075 - val_loss: nan\n",
      "Epoch 8/10\n",
      "\u001b[1m3023/3023\u001b[0m \u001b[32m━━━━━━━━━━━━━━━━━━━━\u001b[0m\u001b[37m\u001b[0m \u001b[1m20s\u001b[0m 7ms/step - accuracy: 0.9048 - loss: nan - val_accuracy: 0.9075 - val_loss: nan\n",
      "Epoch 9/10\n",
      "\u001b[1m3023/3023\u001b[0m \u001b[32m━━━━━━━━━━━━━━━━━━━━\u001b[0m\u001b[37m\u001b[0m \u001b[1m10s\u001b[0m 3ms/step - accuracy: 0.9047 - loss: nan - val_accuracy: 0.9075 - val_loss: nan\n",
      "Epoch 10/10\n",
      "\u001b[1m3023/3023\u001b[0m \u001b[32m━━━━━━━━━━━━━━━━━━━━\u001b[0m\u001b[37m\u001b[0m \u001b[1m7s\u001b[0m 2ms/step - accuracy: 0.9069 - loss: nan - val_accuracy: 0.9075 - val_loss: nan\n",
      "\u001b[1m945/945\u001b[0m \u001b[32m━━━━━━━━━━━━━━━━━━━━\u001b[0m\u001b[37m\u001b[0m \u001b[1m1s\u001b[0m 936us/step\n"
     ]
    },
    {
     "name": "stderr",
     "output_type": "stream",
     "text": [
      "c:\\Users\\USER\\Documents\\10X_Exercises\\Week-8-9-Adey-Innovations\\.venv\\lib\\site-packages\\sklearn\\metrics\\_classification.py:1565: UndefinedMetricWarning: Precision is ill-defined and being set to 0.0 in labels with no predicted samples. Use `zero_division` parameter to control this behavior.\n",
      "  _warn_prf(average, modifier, f\"{metric.capitalize()} is\", len(result))\n",
      "c:\\Users\\USER\\Documents\\10X_Exercises\\Week-8-9-Adey-Innovations\\.venv\\lib\\site-packages\\sklearn\\metrics\\_classification.py:1565: UndefinedMetricWarning: Precision is ill-defined and being set to 0.0 in labels with no predicted samples. Use `zero_division` parameter to control this behavior.\n",
      "  _warn_prf(average, modifier, f\"{metric.capitalize()} is\", len(result))\n",
      "c:\\Users\\USER\\Documents\\10X_Exercises\\Week-8-9-Adey-Innovations\\.venv\\lib\\site-packages\\sklearn\\metrics\\_classification.py:1565: UndefinedMetricWarning: Precision is ill-defined and being set to 0.0 in labels with no predicted samples. Use `zero_division` parameter to control this behavior.\n",
      "  _warn_prf(average, modifier, f\"{metric.capitalize()} is\", len(result))\n",
      "WARNING:absl:You are saving your model as an HDF5 file via `model.save()` or `keras.saving.save_model(model)`. This file format is considered legacy. We recommend using instead the native Keras format, e.g. `model.save('my_model.keras')` or `keras.saving.save_model(model, 'my_model.keras')`. \n"
     ]
    },
    {
     "name": "stdout",
     "output_type": "stream",
     "text": [
      "RNN:\n",
      "              precision    recall  f1-score   support\n",
      "\n",
      "           0       0.91      1.00      0.95     27393\n",
      "           1       0.00      0.00      0.00      2830\n",
      "\n",
      "    accuracy                           0.91     30223\n",
      "   macro avg       0.45      0.50      0.48     30223\n",
      "weighted avg       0.82      0.91      0.86     30223\n",
      "\n",
      "ROC-AUC: 0.5\n"
     ]
    }
   ],
   "source": [
    "from tensorflow.keras.layers import SimpleRNN, Dense\n",
    "from tensorflow.keras.models import Sequential\n",
    "\n",
    "# Convert data to numeric type and reshape for RNN\n",
    "X_train_rnn = X_train_fraud.astype(float).values.reshape(X_train_fraud.shape[0], X_train_fraud.shape[1], 1)\n",
    "X_test_rnn = X_test_fraud.astype(float).values.reshape(X_test_fraud.shape[0], X_test_fraud.shape[1], 1)\n",
    "\n",
    "# Build RNN\n",
    "model = Sequential([\n",
    "    SimpleRNN(50, input_shape=(X_train_rnn.shape[1], 1)),\n",
    "    Dense(1, activation='sigmoid')\n",
    "])\n",
    "model.compile(optimizer='adam', loss='binary_crossentropy', metrics=['accuracy'])\n",
    "\n",
    "# Train\n",
    "model.fit(X_train_rnn, y_train_fraud, epochs=10, batch_size=32, validation_split=0.2)\n",
    "\n",
    "# Evaluate\n",
    "y_pred = (model.predict(X_test_rnn) > 0.5).astype(int)\n",
    "print(\"RNN:\")\n",
    "print(classification_report(y_test_fraud, y_pred))\n",
    "print(\"ROC-AUC:\", roc_auc_score(y_test_fraud, y_pred))\n",
    "\n",
    "model.save(\"../models/rnn_model.h5\")  # Saves in HDF5 format"
   ]
  },
  {
   "cell_type": "code",
   "execution_count": 35,
   "metadata": {},
   "outputs": [
    {
     "name": "stdout",
     "output_type": "stream",
     "text": [
      "Epoch 1/10\n"
     ]
    },
    {
     "name": "stderr",
     "output_type": "stream",
     "text": [
      "c:\\Users\\USER\\Documents\\10X_Exercises\\Week-8-9-Adey-Innovations\\.venv\\lib\\site-packages\\keras\\src\\layers\\rnn\\rnn.py:200: UserWarning: Do not pass an `input_shape`/`input_dim` argument to a layer. When using Sequential models, prefer using an `Input(shape)` object as the first layer in the model instead.\n",
      "  super().__init__(**kwargs)\n"
     ]
    },
    {
     "name": "stdout",
     "output_type": "stream",
     "text": [
      "\u001b[1m3023/3023\u001b[0m \u001b[32m━━━━━━━━━━━━━━━━━━━━\u001b[0m\u001b[37m\u001b[0m \u001b[1m22s\u001b[0m 6ms/step - accuracy: 0.9064 - loss: nan - val_accuracy: 0.9075 - val_loss: nan\n",
      "Epoch 2/10\n",
      "\u001b[1m3023/3023\u001b[0m \u001b[32m━━━━━━━━━━━━━━━━━━━━\u001b[0m\u001b[37m\u001b[0m \u001b[1m25s\u001b[0m 8ms/step - accuracy: 0.9051 - loss: nan - val_accuracy: 0.9075 - val_loss: nan\n",
      "Epoch 3/10\n",
      "\u001b[1m3023/3023\u001b[0m \u001b[32m━━━━━━━━━━━━━━━━━━━━\u001b[0m\u001b[37m\u001b[0m \u001b[1m18s\u001b[0m 6ms/step - accuracy: 0.9072 - loss: nan - val_accuracy: 0.9075 - val_loss: nan\n",
      "Epoch 4/10\n",
      "\u001b[1m3023/3023\u001b[0m \u001b[32m━━━━━━━━━━━━━━━━━━━━\u001b[0m\u001b[37m\u001b[0m \u001b[1m13s\u001b[0m 4ms/step - accuracy: 0.9055 - loss: nan - val_accuracy: 0.9075 - val_loss: nan\n",
      "Epoch 5/10\n",
      "\u001b[1m3023/3023\u001b[0m \u001b[32m━━━━━━━━━━━━━━━━━━━━\u001b[0m\u001b[37m\u001b[0m \u001b[1m12s\u001b[0m 4ms/step - accuracy: 0.9064 - loss: nan - val_accuracy: 0.9075 - val_loss: nan\n",
      "Epoch 6/10\n",
      "\u001b[1m3023/3023\u001b[0m \u001b[32m━━━━━━━━━━━━━━━━━━━━\u001b[0m\u001b[37m\u001b[0m \u001b[1m13s\u001b[0m 4ms/step - accuracy: 0.9062 - loss: nan - val_accuracy: 0.9075 - val_loss: nan\n",
      "Epoch 7/10\n",
      "\u001b[1m3023/3023\u001b[0m \u001b[32m━━━━━━━━━━━━━━━━━━━━\u001b[0m\u001b[37m\u001b[0m \u001b[1m15s\u001b[0m 5ms/step - accuracy: 0.9054 - loss: nan - val_accuracy: 0.9075 - val_loss: nan\n",
      "Epoch 8/10\n",
      "\u001b[1m3023/3023\u001b[0m \u001b[32m━━━━━━━━━━━━━━━━━━━━\u001b[0m\u001b[37m\u001b[0m \u001b[1m15s\u001b[0m 5ms/step - accuracy: 0.9062 - loss: nan - val_accuracy: 0.9075 - val_loss: nan\n",
      "Epoch 9/10\n",
      "\u001b[1m3023/3023\u001b[0m \u001b[32m━━━━━━━━━━━━━━━━━━━━\u001b[0m\u001b[37m\u001b[0m \u001b[1m16s\u001b[0m 5ms/step - accuracy: 0.9052 - loss: nan - val_accuracy: 0.9075 - val_loss: nan\n",
      "Epoch 10/10\n",
      "\u001b[1m3023/3023\u001b[0m \u001b[32m━━━━━━━━━━━━━━━━━━━━\u001b[0m\u001b[37m\u001b[0m \u001b[1m15s\u001b[0m 5ms/step - accuracy: 0.9066 - loss: nan - val_accuracy: 0.9075 - val_loss: nan\n",
      "\u001b[1m945/945\u001b[0m \u001b[32m━━━━━━━━━━━━━━━━━━━━\u001b[0m\u001b[37m\u001b[0m \u001b[1m2s\u001b[0m 2ms/step\n"
     ]
    },
    {
     "name": "stderr",
     "output_type": "stream",
     "text": [
      "c:\\Users\\USER\\Documents\\10X_Exercises\\Week-8-9-Adey-Innovations\\.venv\\lib\\site-packages\\sklearn\\metrics\\_classification.py:1565: UndefinedMetricWarning: Precision is ill-defined and being set to 0.0 in labels with no predicted samples. Use `zero_division` parameter to control this behavior.\n",
      "  _warn_prf(average, modifier, f\"{metric.capitalize()} is\", len(result))\n",
      "c:\\Users\\USER\\Documents\\10X_Exercises\\Week-8-9-Adey-Innovations\\.venv\\lib\\site-packages\\sklearn\\metrics\\_classification.py:1565: UndefinedMetricWarning: Precision is ill-defined and being set to 0.0 in labels with no predicted samples. Use `zero_division` parameter to control this behavior.\n",
      "  _warn_prf(average, modifier, f\"{metric.capitalize()} is\", len(result))\n",
      "c:\\Users\\USER\\Documents\\10X_Exercises\\Week-8-9-Adey-Innovations\\.venv\\lib\\site-packages\\sklearn\\metrics\\_classification.py:1565: UndefinedMetricWarning: Precision is ill-defined and being set to 0.0 in labels with no predicted samples. Use `zero_division` parameter to control this behavior.\n",
      "  _warn_prf(average, modifier, f\"{metric.capitalize()} is\", len(result))\n",
      "WARNING:absl:You are saving your model as an HDF5 file via `model.save()` or `keras.saving.save_model(model)`. This file format is considered legacy. We recommend using instead the native Keras format, e.g. `model.save('my_model.keras')` or `keras.saving.save_model(model, 'my_model.keras')`. \n"
     ]
    },
    {
     "name": "stdout",
     "output_type": "stream",
     "text": [
      "LSTM:\n",
      "              precision    recall  f1-score   support\n",
      "\n",
      "           0       0.91      1.00      0.95     27393\n",
      "           1       0.00      0.00      0.00      2830\n",
      "\n",
      "    accuracy                           0.91     30223\n",
      "   macro avg       0.45      0.50      0.48     30223\n",
      "weighted avg       0.82      0.91      0.86     30223\n",
      "\n",
      "ROC-AUC: 0.5\n"
     ]
    }
   ],
   "source": [
    "from tensorflow.keras.layers import LSTM\n",
    "\n",
    "# Convert boolean columns to integers\n",
    "X_train_fraud = X_train_fraud.astype({col: 'int' for col in X_train_fraud.select_dtypes('bool').columns})\n",
    "X_test_fraud = X_test_fraud.astype({col: 'int' for col in X_test_fraud.select_dtypes('bool').columns})\n",
    "\n",
    "# Reshape data for LSTM\n",
    "X_train_lstm = X_train_fraud.values.reshape(X_train_fraud.shape[0], X_train_fraud.shape[1], 1)\n",
    "X_test_lstm = X_test_fraud.values.reshape(X_test_fraud.shape[0], X_test_fraud.shape[1], 1)\n",
    "\n",
    "# Build LSTM\n",
    "model = Sequential([\n",
    "    LSTM(50, input_shape=(X_train_lstm.shape[1], 1)),\n",
    "    Dense(1, activation='sigmoid')\n",
    "])\n",
    "model.compile(optimizer='adam', loss='binary_crossentropy', metrics=['accuracy'])\n",
    "\n",
    "# Train\n",
    "model.fit(X_train_lstm, y_train_fraud, epochs=10, batch_size=32, validation_split=0.2)\n",
    "\n",
    "# Evaluate\n",
    "y_pred = (model.predict(X_test_lstm) > 0.5).astype(int)\n",
    "print(\"LSTM:\")\n",
    "print(classification_report(y_test_fraud, y_pred))\n",
    "print(\"ROC-AUC:\", roc_auc_score(y_test_fraud, y_pred))\n",
    "\n",
    "model.save(\"../models/lstm_model.h5\")  # Saves in HDF5 format"
   ]
  },
  {
   "cell_type": "code",
   "execution_count": null,
   "metadata": {},
   "outputs": [
    {
     "name": "stderr",
     "output_type": "stream",
     "text": [
      "c:\\Users\\USER\\Documents\\10X_Exercises\\Week-8-9-Adey-Innovations\\.venv\\lib\\site-packages\\sklearn\\impute\\_base.py:635: UserWarning: Skipping features without any observed values: ['time_diff']. At least one non-missing value is needed for imputation with strategy='mean'.\n",
      "  warnings.warn(\n",
      "c:\\Users\\USER\\Documents\\10X_Exercises\\Week-8-9-Adey-Innovations\\.venv\\lib\\site-packages\\sklearn\\impute\\_base.py:635: UserWarning: Skipping features without any observed values: ['time_diff']. At least one non-missing value is needed for imputation with strategy='mean'.\n",
      "  warnings.warn(\n",
      "2025/02/18 11:16:04 WARNING mlflow.models.model: Model logged without a signature and input example. Please set `input_example` parameter when logging the model to auto infer the model signature.\n"
     ]
    }
   ],
   "source": [
    "import mlflow\n",
    "import mlflow.sklearn\n",
    "from sklearn.impute import SimpleImputer\n",
    "from sklearn.metrics import f1_score\n",
    "\n",
    "# Handle missing values\n",
    "imputer = SimpleImputer(strategy='mean')\n",
    "X_train_fraud_imputed = imputer.fit_transform(X_train_fraud)\n",
    "X_test_fraud_imputed = imputer.transform(X_test_fraud)\n",
    "\n",
    "# Track Logistic Regression\n",
    "with mlflow.start_run():\n",
    "    mlflow.log_param(\"model\", \"LogisticRegression\")\n",
    "    model = LogisticRegression(class_weight='balanced', random_state=42)\n",
    "    model.fit(X_train_fraud_imputed, y_train_fraud)\n",
    "    y_pred = model.predict(X_test_fraud_imputed)\n",
    "    f1 = f1_score(y_test_fraud, y_pred)\n",
    "    roc_auc = roc_auc_score(y_test_fraud, y_pred)\n",
    "    mlflow.log_metric(\"f1_score\", f1)\n",
    "    mlflow.log_metric(\"roc_auc\", roc_auc)\n",
    "    mlflow.sklearn.log_model(model, \"logistic_regression_model\")\n",
    "\n",
    "joblib.dump(model, \"../models/l_model.pkl\")\n"
   ]
  }
 ],
 "metadata": {
  "kernelspec": {
   "display_name": ".venv",
   "language": "python",
   "name": "python3"
  },
  "language_info": {
   "codemirror_mode": {
    "name": "ipython",
    "version": 3
   },
   "file_extension": ".py",
   "mimetype": "text/x-python",
   "name": "python",
   "nbconvert_exporter": "python",
   "pygments_lexer": "ipython3",
   "version": "3.10.0"
  }
 },
 "nbformat": 4,
 "nbformat_minor": 2
}
